{
  "nbformat": 4,
  "nbformat_minor": 0,
  "metadata": {
    "colab": {
      "provenance": [],
      "authorship_tag": "ABX9TyP82rmkvxfLPtotg9m/dwhE",
      "include_colab_link": true
    },
    "kernelspec": {
      "name": "python3",
      "display_name": "Python 3"
    },
    "language_info": {
      "name": "python"
    }
  },
  "cells": [
    {
      "cell_type": "markdown",
      "metadata": {
        "id": "view-in-github",
        "colab_type": "text"
      },
      "source": [
        "<a href=\"https://colab.research.google.com/github/DeLe6erT/Brick-Game-on-JS/blob/main/Discriminant_kvadratYrav.ipynb\" target=\"_parent\"><img src=\"https://colab.research.google.com/assets/colab-badge.svg\" alt=\"Open In Colab\"/></a>"
      ]
    },
    {
      "cell_type": "code",
      "execution_count": 1,
      "metadata": {
        "colab": {
          "base_uri": "https://localhost:8080/"
        },
        "id": "XsYJhJ6Ncsdz",
        "outputId": "c51e63b2-bf12-4cf6-dffe-61646a7fa4d4"
      },
      "outputs": [
        {
          "output_type": "stream",
          "name": "stdout",
          "text": [
            "\u001b[31mERROR: Could not find a version that satisfies the requirement math (from versions: none)\u001b[0m\u001b[31m\n",
            "\u001b[0m\u001b[31mERROR: No matching distribution found for math\u001b[0m\u001b[31m\n",
            "\u001b[0m"
          ]
        }
      ],
      "source": [
        "pip install math"
      ]
    },
    {
      "cell_type": "code",
      "source": [
        "a = float(input('Введите число a '))\n",
        "b = float(input('Введите число b '))\n",
        "c = float(input('Введите число c '))\n",
        "\n",
        "D = b*b - 4 * a * c\n",
        "print('ntrcn', D)"
      ],
      "metadata": {
        "colab": {
          "base_uri": "https://localhost:8080/"
        },
        "id": "K5yYMAP1ctJf",
        "outputId": "6d7d6e77-2f57-4442-e283-519a2e793ccb"
      },
      "execution_count": 3,
      "outputs": [
        {
          "output_type": "stream",
          "name": "stdout",
          "text": [
            "Введите число a 6\n",
            "Введите число b 3\n",
            "Введите число c 3\n",
            "ntrcn -63.0\n"
          ]
        }
      ]
    }
  ]
}